{
 "cells": [
  {
   "cell_type": "code",
   "execution_count": 59,
   "metadata": {},
   "outputs": [
    {
     "name": "stdout",
     "output_type": "stream",
     "text": [
      "Requirement already satisfied: powerbiclient in ./venv/lib/python3.10/site-packages (3.1.0)\n",
      "Requirement already satisfied: ipywidgets>=7.0.0 in ./venv/lib/python3.10/site-packages (from powerbiclient) (8.1.1)\n",
      "Requirement already satisfied: jupyter-ui-poll>=0.1.2 in ./venv/lib/python3.10/site-packages (from powerbiclient) (0.2.2)\n",
      "Requirement already satisfied: msal>=1.8.0 in ./venv/lib/python3.10/site-packages (from powerbiclient) (1.26.0)\n",
      "Requirement already satisfied: requests>=2.25.1 in ./venv/lib/python3.10/site-packages (from powerbiclient) (2.31.0)\n",
      "Requirement already satisfied: pandas in ./venv/lib/python3.10/site-packages (from powerbiclient) (2.1.3)\n",
      "Requirement already satisfied: pyspark in ./venv/lib/python3.10/site-packages (from powerbiclient) (3.5.0)\n",
      "Requirement already satisfied: comm>=0.1.3 in ./venv/lib/python3.10/site-packages (from ipywidgets>=7.0.0->powerbiclient) (0.2.1)\n",
      "Requirement already satisfied: ipython>=6.1.0 in ./venv/lib/python3.10/site-packages (from ipywidgets>=7.0.0->powerbiclient) (8.20.0)\n",
      "Requirement already satisfied: traitlets>=4.3.1 in ./venv/lib/python3.10/site-packages (from ipywidgets>=7.0.0->powerbiclient) (5.14.1)\n",
      "Requirement already satisfied: widgetsnbextension~=4.0.9 in ./venv/lib/python3.10/site-packages (from ipywidgets>=7.0.0->powerbiclient) (4.0.9)\n",
      "Requirement already satisfied: jupyterlab-widgets~=3.0.9 in ./venv/lib/python3.10/site-packages (from ipywidgets>=7.0.0->powerbiclient) (3.0.9)\n",
      "Requirement already satisfied: PyJWT<3,>=1.0.0 in ./venv/lib/python3.10/site-packages (from PyJWT[crypto]<3,>=1.0.0->msal>=1.8.0->powerbiclient) (2.8.0)\n",
      "Requirement already satisfied: cryptography<44,>=0.6 in ./venv/lib/python3.10/site-packages (from msal>=1.8.0->powerbiclient) (41.0.7)\n",
      "Requirement already satisfied: charset-normalizer<4,>=2 in ./venv/lib/python3.10/site-packages (from requests>=2.25.1->powerbiclient) (3.3.2)\n",
      "Requirement already satisfied: idna<4,>=2.5 in ./venv/lib/python3.10/site-packages (from requests>=2.25.1->powerbiclient) (3.6)\n",
      "Requirement already satisfied: urllib3<3,>=1.21.1 in ./venv/lib/python3.10/site-packages (from requests>=2.25.1->powerbiclient) (2.1.0)\n",
      "Requirement already satisfied: certifi>=2017.4.17 in ./venv/lib/python3.10/site-packages (from requests>=2.25.1->powerbiclient) (2023.11.17)\n",
      "Requirement already satisfied: numpy<2,>=1.22.4 in ./venv/lib/python3.10/site-packages (from pandas->powerbiclient) (1.26.2)\n",
      "Requirement already satisfied: python-dateutil>=2.8.2 in ./venv/lib/python3.10/site-packages (from pandas->powerbiclient) (2.8.2)\n",
      "Requirement already satisfied: pytz>=2020.1 in ./venv/lib/python3.10/site-packages (from pandas->powerbiclient) (2023.3.post1)\n",
      "Requirement already satisfied: tzdata>=2022.1 in ./venv/lib/python3.10/site-packages (from pandas->powerbiclient) (2023.3)\n",
      "Requirement already satisfied: py4j==0.10.9.7 in ./venv/lib/python3.10/site-packages (from pyspark->powerbiclient) (0.10.9.7)\n",
      "Requirement already satisfied: cffi>=1.12 in ./venv/lib/python3.10/site-packages (from cryptography<44,>=0.6->msal>=1.8.0->powerbiclient) (1.16.0)\n",
      "Requirement already satisfied: decorator in ./venv/lib/python3.10/site-packages (from ipython>=6.1.0->ipywidgets>=7.0.0->powerbiclient) (5.1.1)\n",
      "Requirement already satisfied: jedi>=0.16 in ./venv/lib/python3.10/site-packages (from ipython>=6.1.0->ipywidgets>=7.0.0->powerbiclient) (0.19.1)\n",
      "Requirement already satisfied: matplotlib-inline in ./venv/lib/python3.10/site-packages (from ipython>=6.1.0->ipywidgets>=7.0.0->powerbiclient) (0.1.6)\n",
      "Requirement already satisfied: prompt-toolkit<3.1.0,>=3.0.41 in ./venv/lib/python3.10/site-packages (from ipython>=6.1.0->ipywidgets>=7.0.0->powerbiclient) (3.0.43)\n",
      "Requirement already satisfied: pygments>=2.4.0 in ./venv/lib/python3.10/site-packages (from ipython>=6.1.0->ipywidgets>=7.0.0->powerbiclient) (2.17.2)\n",
      "Requirement already satisfied: stack-data in ./venv/lib/python3.10/site-packages (from ipython>=6.1.0->ipywidgets>=7.0.0->powerbiclient) (0.6.3)\n",
      "Requirement already satisfied: exceptiongroup in ./venv/lib/python3.10/site-packages (from ipython>=6.1.0->ipywidgets>=7.0.0->powerbiclient) (1.2.0)\n",
      "Requirement already satisfied: pexpect>4.3 in ./venv/lib/python3.10/site-packages (from ipython>=6.1.0->ipywidgets>=7.0.0->powerbiclient) (4.9.0)\n",
      "Requirement already satisfied: six>=1.5 in ./venv/lib/python3.10/site-packages (from python-dateutil>=2.8.2->pandas->powerbiclient) (1.16.0)\n",
      "Requirement already satisfied: pycparser in ./venv/lib/python3.10/site-packages (from cffi>=1.12->cryptography<44,>=0.6->msal>=1.8.0->powerbiclient) (2.21)\n",
      "Requirement already satisfied: parso<0.9.0,>=0.8.3 in ./venv/lib/python3.10/site-packages (from jedi>=0.16->ipython>=6.1.0->ipywidgets>=7.0.0->powerbiclient) (0.8.3)\n",
      "Requirement already satisfied: ptyprocess>=0.5 in ./venv/lib/python3.10/site-packages (from pexpect>4.3->ipython>=6.1.0->ipywidgets>=7.0.0->powerbiclient) (0.7.0)\n",
      "Requirement already satisfied: wcwidth in ./venv/lib/python3.10/site-packages (from prompt-toolkit<3.1.0,>=3.0.41->ipython>=6.1.0->ipywidgets>=7.0.0->powerbiclient) (0.2.13)\n",
      "Requirement already satisfied: executing>=1.2.0 in ./venv/lib/python3.10/site-packages (from stack-data->ipython>=6.1.0->ipywidgets>=7.0.0->powerbiclient) (2.0.1)\n",
      "Requirement already satisfied: asttokens>=2.1.0 in ./venv/lib/python3.10/site-packages (from stack-data->ipython>=6.1.0->ipywidgets>=7.0.0->powerbiclient) (2.4.1)\n",
      "Requirement already satisfied: pure-eval in ./venv/lib/python3.10/site-packages (from stack-data->ipython>=6.1.0->ipywidgets>=7.0.0->powerbiclient) (0.2.2)\n",
      "Note: you may need to restart the kernel to use updated packages.\n"
     ]
    }
   ],
   "source": [
    "%pip install powerbiclient"
   ]
  },
  {
   "cell_type": "code",
   "execution_count": 2,
   "metadata": {},
   "outputs": [
    {
     "name": "stdout",
     "output_type": "stream",
     "text": [
      "Requirement already satisfied: pip in ./venv/lib/python3.10/site-packages (23.3.2)\n",
      "Note: you may need to restart the kernel to use updated packages.\n"
     ]
    }
   ],
   "source": [
    "%pip install --upgrade pip"
   ]
  },
  {
   "cell_type": "code",
   "execution_count": 3,
   "metadata": {},
   "outputs": [
    {
     "name": "stdout",
     "output_type": "stream",
     "text": [
      "Requirement already satisfied: plotly in ./venv/lib/python3.10/site-packages (5.18.0)\n",
      "Requirement already satisfied: tenacity>=6.2.0 in ./venv/lib/python3.10/site-packages (from plotly) (8.2.3)\n",
      "Requirement already satisfied: packaging in ./venv/lib/python3.10/site-packages (from plotly) (23.2)\n",
      "Note: you may need to restart the kernel to use updated packages.\n"
     ]
    }
   ],
   "source": [
    "%pip install plotly"
   ]
  },
  {
   "cell_type": "code",
   "execution_count": 4,
   "metadata": {},
   "outputs": [
    {
     "name": "stdout",
     "output_type": "stream",
     "text": [
      "Requirement already satisfied: matplotlib in ./venv/lib/python3.10/site-packages (3.8.2)\n",
      "Requirement already satisfied: contourpy>=1.0.1 in ./venv/lib/python3.10/site-packages (from matplotlib) (1.2.0)\n",
      "Requirement already satisfied: cycler>=0.10 in ./venv/lib/python3.10/site-packages (from matplotlib) (0.12.1)\n",
      "Requirement already satisfied: fonttools>=4.22.0 in ./venv/lib/python3.10/site-packages (from matplotlib) (4.47.2)\n",
      "Requirement already satisfied: kiwisolver>=1.3.1 in ./venv/lib/python3.10/site-packages (from matplotlib) (1.4.5)\n",
      "Requirement already satisfied: numpy<2,>=1.21 in ./venv/lib/python3.10/site-packages (from matplotlib) (1.26.2)\n",
      "Requirement already satisfied: packaging>=20.0 in ./venv/lib/python3.10/site-packages (from matplotlib) (23.2)\n",
      "Requirement already satisfied: pillow>=8 in ./venv/lib/python3.10/site-packages (from matplotlib) (10.2.0)\n",
      "Requirement already satisfied: pyparsing>=2.3.1 in ./venv/lib/python3.10/site-packages (from matplotlib) (3.1.1)\n",
      "Requirement already satisfied: python-dateutil>=2.7 in ./venv/lib/python3.10/site-packages (from matplotlib) (2.8.2)\n",
      "Requirement already satisfied: six>=1.5 in ./venv/lib/python3.10/site-packages (from python-dateutil>=2.7->matplotlib) (1.16.0)\n",
      "Note: you may need to restart the kernel to use updated packages.\n"
     ]
    }
   ],
   "source": [
    "%pip install matplotlib"
   ]
  },
  {
   "cell_type": "code",
   "execution_count": 30,
   "metadata": {},
   "outputs": [],
   "source": [
    "from powerbiclient import QuickVisualize, get_dataset_config, Report\n",
    "from powerbiclient.authentication import DeviceCodeLoginAuthentication\n",
    "from powerbiclient.authentication import InteractiveLoginAuthentication\n",
    "from powerbiclient import Report, models\n",
    "from io import StringIO\n",
    "from ipywidgets import interact\n",
    "import requests\n",
    "import pandas as pd\n",
    "import matplotlib\n",
    "\n",
    "import pandas as pd"
   ]
  },
  {
   "cell_type": "code",
   "execution_count": 7,
   "metadata": {},
   "outputs": [
    {
     "name": "stdout",
     "output_type": "stream",
     "text": [
      "Performing device flow authentication. Please follow the instructions below.\n",
      "To sign in, use a web browser to open the page https://microsoft.com/devicelogin and enter the code EE3XA3ACT to authenticate.\n",
      "\n",
      "Device flow authentication successfully completed.\n",
      "You are now logged in .\n",
      "\n",
      "The result should be passed only to trusted code in your notebook.\n"
     ]
    }
   ],
   "source": [
    "device_auth = DeviceCodeLoginAuthentication()"
   ]
  },
  {
   "cell_type": "code",
   "execution_count": 8,
   "metadata": {},
   "outputs": [
    {
     "name": "stdout",
     "output_type": "stream",
     "text": [
      "A local browser window will open for interactive sign in.\n",
      "\n",
      "Interactive authentication successfully completed.\n",
      "You are now logged in.\n",
      "\n",
      "The result should be passed only to trusted code in your notebook.\n"
     ]
    }
   ],
   "source": [
    "interactive_auth = InteractiveLoginAuthentication()"
   ]
  },
  {
   "cell_type": "code",
   "execution_count": 31,
   "metadata": {},
   "outputs": [],
   "source": [
    "import pandas as pd\n",
    "\n",
    "import pandas as pd\n",
    "import plotly.graph_objects as go\n",
    "import plotly.io as pio\n",
    "from plotly.subplots import make_subplots\n",
    "\n",
    "# Importar la función desde el otro archivo\n",
    "from T1_Trimestre import FUNCTION_T1\n",
    "\n",
    "df1 = None\n",
    "df3 = None\n",
    "# Función para crear el diagrama de barras\n",
    "def FUNCTION_GRAPH_1(datos_TIME):\n",
    "    global df1, df3\n",
    "    # Obtener los valores de las variables\n",
    "    valor_TIME_T1_HIDRAULICA_1 = datos_TIME.iloc[187, 2]\n",
    "    valor_TIME_T1_REC_MUESTRAS_1 = datos_TIME.iloc[188, 2]\n",
    "    valor_TIME_T1_INGLES_1 = datos_TIME.iloc[189,2]  # Reemplaza con los índices correspondientes\n",
    "    valor_TIME_T1_MATEMATICAS_1 = datos_TIME.iloc[190,2]  # Reemplaza con los índices correspondientes\n",
    "    valor_TIME_T1_BIOLOGIA_1 = datos_TIME.iloc[191,2]  # Reemplaza con los índices correspondientes\n",
    "    valor_TIME_T1_COMUNICACION_1 = datos_TIME.iloc[192,2]  # Reemplaza con los índices correspondientes\n",
    "    valor_TIME_T1_LOGISTICA_1 = datos_TIME.iloc[193,2]  # Reemplaza con los índices correspondientes\n",
    "\n",
    "    valor_TIME_T1_HIDRAULICA_3 = datos_TIME.iloc[187,4]  # Reemplaza con los índices correspondientes\n",
    "    valor_TIME_T1_REC_MUESTRAS_3 = datos_TIME.iloc[188,4]  # Reemplaza con los índices correspondientes\n",
    "    valor_TIME_T1_INGLES_3 = datos_TIME.iloc[189,4]  # Reemplaza con los índices correspondientes\n",
    "    valor_TIME_T1_MATEMATICAS_3 = datos_TIME.iloc[190,4]  # Reemplaza con los índices correspondientes\n",
    "    valor_TIME_T1_BIOLOGIA_3 = datos_TIME.iloc[191,4]  # Reemplaza con los índices correspondientes\n",
    "    valor_TIME_T1_COMUNICACION_3 = datos_TIME.iloc[192,4]  # Reemplaza con los índices correspondientes\n",
    "    valor_TIME_T1_LOGISTICA_3 = datos_TIME.iloc[193,4]  # Reemplaza con los índices correspondientes\n",
    "\n",
    " # Crear un DataFrame para Horas de Formación Directa\n",
    "    df1 = pd.DataFrame({\n",
    "        \"Competencia\": [\"Hidráulica\", \"Recolección de Muestras\", \"Inglés\", \"Matemáticas\", \"Biología\",\"Comunicación\",\"Logística, Costos e Inventarios\" ],\n",
    "        \"Horas de formación directa [FD]\": [valor_TIME_T1_HIDRAULICA_1, valor_TIME_T1_REC_MUESTRAS_1,\n",
    "                                       valor_TIME_T1_INGLES_1, valor_TIME_T1_MATEMATICAS_1,\n",
    "                                       valor_TIME_T1_BIOLOGIA_1, valor_TIME_T1_COMUNICACION_1,\n",
    "                                       valor_TIME_T1_LOGISTICA_1]\n",
    "    })\n",
    "\n",
    "    # Crear un DataFrame para Horas de Formación Autónoma\n",
    "    # Asegúrate de obtener los valores correctos para las Horas de Formación Autónoma\n",
    "    df3 = pd.DataFrame({\n",
    "        \"Competencia\": [\"Hidráulica\", \"Recolección de Muestras\", \"Inglés\", \"Matemáticas\", \"Biología\",\"Comunicación\",\"Logística, Costos e Inventarios\" ],\n",
    "        \"Horas de formación autónoma [FA]\": [valor_TIME_T1_HIDRAULICA_3, valor_TIME_T1_REC_MUESTRAS_3,\n",
    "                                        valor_TIME_T1_INGLES_3, valor_TIME_T1_MATEMATICAS_3,\n",
    "                                        valor_TIME_T1_BIOLOGIA_3, valor_TIME_T1_COMUNICACION_3,\n",
    "                                        valor_TIME_T1_LOGISTICA_3]\n",
    "    })\n",
    "    \n",
    "\n",
    "df2 = None\n",
    "df4 = None\n",
    "# Cargar datos_TIME desde el archivo Excel\n",
    "# Función para crear el diagrama de barras\n",
    "def FUNCTION_GRAPH_2(datos_TIME):\n",
    "    global df2, df4\n",
    "    # Obtener los valores de las variables\n",
    "    valor_TIME_T1_HIDRAULICA_2 = datos_TIME.iloc[187,3]  # Reemplaza con los índices correspondientes\n",
    "    valor_TIME_T1_HIDRAULICA_2 = round(valor_TIME_T1_HIDRAULICA_2, 2)  # Redondear a 2 decimales\n",
    "\n",
    "    valor_TIME_T1_REC_MUESTRAS_2 = datos_TIME.iloc[188,3]  # Reemplaza con los índices correspondientes\n",
    "    valor_TIME_T1_REC_MUESTRAS_2 = round(valor_TIME_T1_REC_MUESTRAS_2, 2)  # Redondear a 2 decimales\n",
    "\n",
    "    valor_TIME_T1_INGLES_2 = datos_TIME.iloc[189,3]  # Reemplaza con los índices correspondientes\n",
    "    valor_TIME_T1_INGLES_2 = round(valor_TIME_T1_INGLES_2, 2)  # Redondear a 2 decimales\n",
    "\n",
    "    valor_TIME_T1_MATEMATICAS_2 = datos_TIME.iloc[190,3]  # Reemplaza con los índices correspondientes\n",
    "    valor_TIME_T1_MATEMATICAS_2 = round(valor_TIME_T1_MATEMATICAS_2, 2)  # Redondear a 2 decimales\n",
    "\n",
    "    valor_TIME_T1_BIOLOGIA_2 = (datos_TIME.iloc[191,3])  # Reemplaza con los índices correspondientes\n",
    "    valor_TIME_T1_BIOLOGIA_2 = \"{:.3}\".format(valor_TIME_T1_BIOLOGIA_2)  # Redondear a 2 decimales\n",
    "\n",
    "    valor_TIME_T1_COMUNICACION_2 = datos_TIME.iloc[192,3]  # Reemplaza con los índices correspondientes\n",
    "    valor_TIME_T1_COMUNICACION_2 = round(valor_TIME_T1_COMUNICACION_2, 2)  # Redondear a 2 decimales\n",
    "\n",
    "    valor_TIME_T1_LOGISTICA_2 = datos_TIME.iloc[193,3]  # Reemplaza con los índices correspondientes\n",
    "    valor_TIME_T1_LOGISTICA_2 = round(valor_TIME_T1_LOGISTICA_2, 2)  # Redondear a 2 decimales\n",
    "\n",
    "    valor_TIME_T1_HIDRAULICA_4 = datos_TIME.iloc[187,5]  # Reemplaza con los índices correspondientes\n",
    "    valor_TIME_T1_HIDRAULICA_4 = round(valor_TIME_T1_HIDRAULICA_4, 2)  # Redondear a 2 decimales\n",
    "\n",
    "    valor_TIME_T1_REC_MUESTRAS_4 = datos_TIME.iloc[188,5]  # Reemplaza con los índices correspondientes\n",
    "    valor_TIME_T1_REC_MUESTRAS_4 = round(valor_TIME_T1_REC_MUESTRAS_4, 2)  # Redondear a 2 decimales\n",
    "\n",
    "    valor_TIME_T1_INGLES_4 = datos_TIME.iloc[189,5]  # Reemplaza con los índices correspondientes\n",
    "    valor_TIME_T1_INGLES_4 = round(valor_TIME_T1_INGLES_4, 2)  # Redondear a 2 decimales\n",
    "\n",
    "    valor_TIME_T1_MATEMATICAS_4 = datos_TIME.iloc[190,5]  # Reemplaza con los índices correspondientes\n",
    "    valor_TIME_T1_MATEMATICAS_4 = round(valor_TIME_T1_MATEMATICAS_4, 2)  # Redondear a 2 decimales\n",
    "\n",
    "    valor_TIME_T1_BIOLOGIA_4 = datos_TIME.iloc[191,5]  # Reemplaza con los índices correspondientes\n",
    "    valor_TIME_T1_BIOLOGIA_4 = round(valor_TIME_T1_BIOLOGIA_4, 2)  # Redondear a 2 decimales\n",
    "\n",
    "    valor_TIME_T1_COMUNICACION_4 = datos_TIME.iloc[192,5]  # Reemplaza con los índices correspondientes\n",
    "    valor_TIME_T1_COMUNICACION_4 = round(valor_TIME_T1_COMUNICACION_4, 2)  # Redondear a 2 decimales\n",
    "\n",
    "    valor_TIME_T1_LOGISTICA_4 = datos_TIME.iloc[193,5]  # Reemplaza con los índices correspondientes\n",
    "    valor_TIME_T1_LOGISTICA_4 = round(valor_TIME_T1_LOGISTICA_4, 2)  # Redondear a 2 decimales\n",
    "\n",
    " # Crear un DataFrame para Horas de Formación Directa\n",
    "    df2 = pd.DataFrame({\n",
    "        \"Competencia\": [\"Hidráulica\", \"Recolección de Muestras\", \"Inglés\", \"Matemáticas\", \"Biología\",\"Comunicación\",\"Logística, Costos e Inventarios\" ],\n",
    "        \"Horas de formación directa [FD]\": [valor_TIME_T1_HIDRAULICA_2, valor_TIME_T1_REC_MUESTRAS_2,\n",
    "                                        valor_TIME_T1_INGLES_2, valor_TIME_T1_MATEMATICAS_2,\n",
    "                                        valor_TIME_T1_BIOLOGIA_2, valor_TIME_T1_COMUNICACION_2,\n",
    "                                        valor_TIME_T1_LOGISTICA_2]\n",
    "    })\n",
    "\n",
    "    df4 = pd.DataFrame({\n",
    "        \"Competencia\": [\"Hidráulica\", \"Recolección de Muestras\", \"Inglés\", \"Matemáticas\", \"Biología\",\"Comunicación\",\"Logística, Costos e Inventarios\" ],\n",
    "        \"Horas de formación autónoma [FA]\": [valor_TIME_T1_HIDRAULICA_4, valor_TIME_T1_REC_MUESTRAS_4,\n",
    "                                       valor_TIME_T1_INGLES_4, valor_TIME_T1_MATEMATICAS_4,\n",
    "                                       valor_TIME_T1_BIOLOGIA_4, valor_TIME_T1_COMUNICACION_4,\n",
    "                                       valor_TIME_T1_LOGISTICA_4]\n",
    "    })"
   ]
  },
  {
   "cell_type": "code",
   "execution_count": 32,
   "metadata": {},
   "outputs": [
    {
     "data": {
      "text/html": [
       "<div>\n",
       "<style scoped>\n",
       "    .dataframe tbody tr th:only-of-type {\n",
       "        vertical-align: middle;\n",
       "    }\n",
       "\n",
       "    .dataframe tbody tr th {\n",
       "        vertical-align: top;\n",
       "    }\n",
       "\n",
       "    .dataframe thead th {\n",
       "        text-align: right;\n",
       "    }\n",
       "</style>\n",
       "<table border=\"1\" class=\"dataframe\">\n",
       "  <thead>\n",
       "    <tr style=\"text-align: right;\">\n",
       "      <th></th>\n",
       "      <th>Competencia</th>\n",
       "      <th>Horas de formación directa [FD]_df1</th>\n",
       "      <th>Horas de formación directa [FD]_df2</th>\n",
       "      <th>Horas de formación autónoma [FA]_df3</th>\n",
       "      <th>Horas de formación autónoma [FA]_df4</th>\n",
       "    </tr>\n",
       "  </thead>\n",
       "  <tbody>\n",
       "    <tr>\n",
       "      <th>0</th>\n",
       "      <td>Hidráulica</td>\n",
       "      <td>40</td>\n",
       "      <td>0.13</td>\n",
       "      <td>8</td>\n",
       "      <td>0.03</td>\n",
       "    </tr>\n",
       "    <tr>\n",
       "      <th>1</th>\n",
       "      <td>Recolección de Muestras</td>\n",
       "      <td>35</td>\n",
       "      <td>0.11</td>\n",
       "      <td>13</td>\n",
       "      <td>0.04</td>\n",
       "    </tr>\n",
       "    <tr>\n",
       "      <th>2</th>\n",
       "      <td>Inglés</td>\n",
       "      <td>48</td>\n",
       "      <td>0.15</td>\n",
       "      <td>0</td>\n",
       "      <td>0.00</td>\n",
       "    </tr>\n",
       "    <tr>\n",
       "      <th>3</th>\n",
       "      <td>Matemáticas</td>\n",
       "      <td>34</td>\n",
       "      <td>0.11</td>\n",
       "      <td>14</td>\n",
       "      <td>0.05</td>\n",
       "    </tr>\n",
       "    <tr>\n",
       "      <th>4</th>\n",
       "      <td>Biología</td>\n",
       "      <td>42</td>\n",
       "      <td>0.14</td>\n",
       "      <td>12</td>\n",
       "      <td>0.04</td>\n",
       "    </tr>\n",
       "    <tr>\n",
       "      <th>5</th>\n",
       "      <td>Comunicación</td>\n",
       "      <td>14</td>\n",
       "      <td>0.05</td>\n",
       "      <td>2</td>\n",
       "      <td>0.01</td>\n",
       "    </tr>\n",
       "    <tr>\n",
       "      <th>6</th>\n",
       "      <td>Logística, Costos e Inventarios</td>\n",
       "      <td>37</td>\n",
       "      <td>0.12</td>\n",
       "      <td>11</td>\n",
       "      <td>0.04</td>\n",
       "    </tr>\n",
       "  </tbody>\n",
       "</table>\n",
       "</div>"
      ],
      "text/plain": [
       "                       Competencia  Horas de formación directa [FD]_df1  \\\n",
       "0                       Hidráulica                                   40   \n",
       "1          Recolección de Muestras                                   35   \n",
       "2                           Inglés                                   48   \n",
       "3                      Matemáticas                                   34   \n",
       "4                         Biología                                   42   \n",
       "5                     Comunicación                                   14   \n",
       "6  Logística, Costos e Inventarios                                   37   \n",
       "\n",
       "  Horas de formación directa [FD]_df2  Horas de formación autónoma [FA]_df3  \\\n",
       "0                                0.13                                     8   \n",
       "1                                0.11                                    13   \n",
       "2                                0.15                                     0   \n",
       "3                                0.11                                    14   \n",
       "4                                0.14                                    12   \n",
       "5                                0.05                                     2   \n",
       "6                                0.12                                    11   \n",
       "\n",
       "   Horas de formación autónoma [FA]_df4  \n",
       "0                                  0.03  \n",
       "1                                  0.04  \n",
       "2                                  0.00  \n",
       "3                                  0.05  \n",
       "4                                  0.04  \n",
       "5                                  0.01  \n",
       "6                                  0.04  "
      ]
     },
     "execution_count": 32,
     "metadata": {},
     "output_type": "execute_result"
    }
   ],
   "source": [
    "# Cargar datos_TIME desde el archivo Excel\n",
    "datos_TIME = pd.read_excel('30122023 Arquitectura Curricular - Proyecto de Formación.xlsx', sheet_name='TIME')\n",
    "\n",
    "# Llamar a FUNCTION_GRAPH_1 para definir df1\n",
    "FUNCTION_GRAPH_1(datos_TIME)\n",
    "FUNCTION_GRAPH_2(datos_TIME)\n",
    "\n",
    "# Realizar un merge en cadena basado en la columna \"Competencia\"\n",
    "df_merged = pd.merge(df1, df2, on=\"Competencia\", suffixes=('_df1', '_df2'))\n",
    "df_merged = pd.merge(df_merged, df3, on=\"Competencia\", suffixes=('_df1', '_df3'))\n",
    "df_PB_Time = pd.merge(df_merged, df4, on=\"Competencia\", suffixes=('_df1', '_df4'))\n",
    "\n",
    "# Renombrar columnas para que sean más legibles\n",
    "df_PB_Time.rename(columns={\n",
    "    \"Horas de formación directa [FD]_df1\": \"Horas de formación directa [FD]_df1\",\n",
    "    \"Horas de formación directa [FD]_df2\": \"Horas de formación directa [FD]_df2\",\n",
    "    \"Horas de formación autónoma [FA]_df1\": \"Horas de formación autónoma [FA]_df3\",\n",
    "    \"Horas de formación autónoma [FA]_df4\": \"Horas de formación autónoma [FA]_df4\"\n",
    "}, inplace=True)\n",
    "\n",
    "# Imprimir el resultado\n",
    "df_PB_Time\n"
   ]
  },
  {
   "cell_type": "code",
   "execution_count": 33,
   "metadata": {},
   "outputs": [
    {
     "data": {
      "application/vnd.jupyter.widget-view+json": {
       "model_id": "22ee82a7205a41928ff22117138f55a1",
       "version_major": 2,
       "version_minor": 0
      },
      "text/plain": [
       "QuickVisualize()"
      ]
     },
     "execution_count": 33,
     "metadata": {},
     "output_type": "execute_result"
    }
   ],
   "source": [
    "from powerbiclient import QuickVisualize, get_dataset_config, Report\n",
    "\n",
    "PBI_visualize = QuickVisualize(get_dataset_config(df_PB_Time), auth=device_auth)\n",
    "PBI_visualize "
   ]
  },
  {
   "cell_type": "code",
   "execution_count": 49,
   "metadata": {},
   "outputs": [
    {
     "data": {
      "application/vnd.jupyter.widget-view+json": {
       "model_id": "e15dd90945424abdbcd7207d902b81dc",
       "version_major": 2,
       "version_minor": 0
      },
      "text/plain": [
       "QuickVisualize()"
      ]
     },
     "execution_count": 49,
     "metadata": {},
     "output_type": "execute_result"
    }
   ],
   "source": [
    "from powerbiclient import QuickVisualize, get_dataset_config, Report\n",
    "\n",
    "df_selected_columns = df_PB_Time.iloc[:, [0,1,3]]  # Selecciona las columnas con índices 1, 2 y 3  # Selecciona solo las dos primeras columnas\n",
    "\n",
    "# Configura el conjunto de datos para la visualización\n",
    "dataset_config = get_dataset_config(df_selected_columns)\n",
    "\n",
    "# Crea una visualización rápida\n",
    "PBI_visualize = QuickVisualize(\n",
    "    dataset_config,\n",
    "    auth=device_auth,\n",
    "    title='Mi Visualización',\n",
    "    description='Descripción de la visualización',\n",
    "    visualization_type='table',\n",
    ")\n",
    "\n",
    "# Muestra la visualización\n",
    "PBI_visualize"
   ]
  },
  {
   "cell_type": "code",
   "execution_count": 50,
   "metadata": {},
   "outputs": [
    {
     "ename": "ImportError",
     "evalue": "cannot import name 'Client' from 'powerbiclient' (/Users/user/Documents/11042022_DiegoOsorio/14122023 WEB/ArquitecturaCurricular_03122023/venv/lib/python3.10/site-packages/powerbiclient/__init__.py)",
     "output_type": "error",
     "traceback": [
      "\u001b[0;31m---------------------------------------------------------------------------\u001b[0m",
      "\u001b[0;31mImportError\u001b[0m                               Traceback (most recent call last)",
      "Cell \u001b[0;32mIn[50], line 1\u001b[0m\n\u001b[0;32m----> 1\u001b[0m \u001b[38;5;28;01mfrom\u001b[39;00m \u001b[38;5;21;01mpowerbiclient\u001b[39;00m \u001b[38;5;28;01mimport\u001b[39;00m models, get_dataset_config, Client, QuickVisualize\n\u001b[1;32m      2\u001b[0m \u001b[38;5;28;01mimport\u001b[39;00m \u001b[38;5;21;01mpandas\u001b[39;00m \u001b[38;5;28;01mas\u001b[39;00m \u001b[38;5;21;01mpd\u001b[39;00m\n\u001b[1;32m      4\u001b[0m \u001b[38;5;66;03m# Configura el conjunto de datos para la visualización\u001b[39;00m\n",
      "\u001b[0;31mImportError\u001b[0m: cannot import name 'Client' from 'powerbiclient' (/Users/user/Documents/11042022_DiegoOsorio/14122023 WEB/ArquitecturaCurricular_03122023/venv/lib/python3.10/site-packages/powerbiclient/__init__.py)"
     ]
    }
   ],
   "source": [
    "from powerbiclient import models, get_dataset_config, Client, QuickVisualize\n",
    "import pandas as pd\n",
    "\n",
    "# Configura el conjunto de datos para la visualización\n",
    "dataset_config = get_dataset_config(df_selected_columns .to_json())\n",
    "\n",
    "# Inicializa el cliente de Power BI\n",
    "client = Client()\n",
    "\n",
    "# Publica el conjunto de datos como un archivo JSON\n",
    "dataset = client.datasets.publish(dataset_config, workspace_id='91c2b247-be99-4cdd-91bd-05b196fe63ec', format='json')\n",
    "\n",
    "# Crea una visualización rápida\n",
    "PBI_visualize = QuickVisualize(\n",
    "    dataset_config,\n",
    "    auth=device_auth,\n",
    "    title='Mi Visualización',\n",
    "    description='Descripción de la visualización',\n",
    "    visualization_type='table',\n",
    ")\n",
    "\n",
    "# Genera el código de inserción para la visualización\n",
    "embed_code = PBI_visualize.to_embed_code()\n",
    "\n",
    "# Imprime el código de inserción\n",
    "print(embed_code)"
   ]
  },
  {
   "cell_type": "code",
   "execution_count": 51,
   "metadata": {},
   "outputs": [
    {
     "ename": "ImportError",
     "evalue": "cannot import name 'Client' from 'powerbiclient' (/Users/user/Documents/11042022_DiegoOsorio/14122023 WEB/ArquitecturaCurricular_03122023/venv/lib/python3.10/site-packages/powerbiclient/__init__.py)",
     "output_type": "error",
     "traceback": [
      "\u001b[0;31m---------------------------------------------------------------------------\u001b[0m",
      "\u001b[0;31mImportError\u001b[0m                               Traceback (most recent call last)",
      "Cell \u001b[0;32mIn[51], line 1\u001b[0m\n\u001b[0;32m----> 1\u001b[0m \u001b[38;5;28;01mfrom\u001b[39;00m \u001b[38;5;21;01mpowerbiclient\u001b[39;00m \u001b[38;5;28;01mimport\u001b[39;00m get_dataset_config, Client, QuickVisualize\n\u001b[1;32m      2\u001b[0m \u001b[38;5;28;01mimport\u001b[39;00m \u001b[38;5;21;01mpandas\u001b[39;00m \u001b[38;5;28;01mas\u001b[39;00m \u001b[38;5;21;01mpd\u001b[39;00m\n\u001b[1;32m      4\u001b[0m \u001b[38;5;66;03m# 1. Configura el conjunto de datos para la visualización\u001b[39;00m\n",
      "\u001b[0;31mImportError\u001b[0m: cannot import name 'Client' from 'powerbiclient' (/Users/user/Documents/11042022_DiegoOsorio/14122023 WEB/ArquitecturaCurricular_03122023/venv/lib/python3.10/site-packages/powerbiclient/__init__.py)"
     ]
    }
   ],
   "source": [
    "from powerbiclient import get_dataset_config, Client, QuickVisualize\n",
    "import pandas as pd\n",
    "\n",
    "# 1. Configura el conjunto de datos para la visualización\n",
    "dataset_config = get_dataset_config(df_selected_columns)\n",
    "\n",
    "# 2. Inicializa el cliente de Power BI\n",
    "power_bi_client = Client()\n",
    "\n",
    "# 3. Manejo de excepciones para la autenticación\n",
    "try:\n",
    "    # Asegúrate de tener tu información de autenticación en device_auth\n",
    "    power_bi_client.authenticate(device_auth)\n",
    "except Exception as e:\n",
    "    print(f\"Error de autenticación: {e}\")\n",
    "    # Puedes agregar más lógica para manejar el error según tus necesidades\n",
    "    exit()\n",
    "\n",
    "# 4. Publica el conjunto de datos\n",
    "try:\n",
    "    # Asegúrate de tener el workspace_id correcto\n",
    "    workspace_id = '91c2b247-be99-4cdd-91bd-05b196fe63ec'\n",
    "    dataset = power_bi_client.datasets.publish(dataset_config, workspace_id=workspace_id)\n",
    "    print(\"Conjunto de datos publicado exitosamente.\")\n",
    "except Exception as e:\n",
    "    print(f\"Error al publicar el conjunto de datos: {e}\")\n",
    "    # Puedes agregar más lógica para manejar el error según tus necesidades\n",
    "    exit()\n",
    "\n",
    "# 5. Crea una visualización rápida\n",
    "PBI_visualize = QuickVisualize(\n",
    "    dataset_config,\n",
    "    auth=device_auth,\n",
    "    title='Mi Visualización',\n",
    "    description='Descripción de la visualización',\n",
    "    visualization_type='table',\n",
    ")\n",
    "\n",
    "# 6. Muestra la visualización\n",
    "PBI_visualize"
   ]
  },
  {
   "cell_type": "code",
   "execution_count": 60,
   "metadata": {},
   "outputs": [
    {
     "ename": "ImportError",
     "evalue": "cannot import name 'DatasetClient' from 'powerbiclient' (/Users/user/Documents/11042022_DiegoOsorio/14122023 WEB/ArquitecturaCurricular_03122023/venv/lib/python3.10/site-packages/powerbiclient/__init__.py)",
     "output_type": "error",
     "traceback": [
      "\u001b[0;31m---------------------------------------------------------------------------\u001b[0m",
      "\u001b[0;31mImportError\u001b[0m                               Traceback (most recent call last)",
      "Cell \u001b[0;32mIn[60], line 2\u001b[0m\n\u001b[1;32m      1\u001b[0m \u001b[38;5;28;01mimport\u001b[39;00m \u001b[38;5;21;01mpowerbiclient\u001b[39;00m\n\u001b[0;32m----> 2\u001b[0m \u001b[38;5;28;01mfrom\u001b[39;00m \u001b[38;5;21;01mpowerbiclient\u001b[39;00m \u001b[38;5;28;01mimport\u001b[39;00m DatasetClient\n\u001b[1;32m      4\u001b[0m \u001b[38;5;66;03m# Importa el conjunto de datos\u001b[39;00m\n\u001b[1;32m      5\u001b[0m dataset \u001b[38;5;241m=\u001b[39m powerbiclient\u001b[38;5;241m.\u001b[39mDatasetClient\u001b[38;5;241m.\u001b[39mget(\u001b[38;5;124m\"\u001b[39m\u001b[38;5;124mhttps://api.powerbi.com/v1.0/myorg/datasets/mydataset\u001b[39m\u001b[38;5;124m\"\u001b[39m)\n",
      "\u001b[0;31mImportError\u001b[0m: cannot import name 'DatasetClient' from 'powerbiclient' (/Users/user/Documents/11042022_DiegoOsorio/14122023 WEB/ArquitecturaCurricular_03122023/venv/lib/python3.10/site-packages/powerbiclient/__init__.py)"
     ]
    }
   ],
   "source": [
    "import powerbiclient\n",
    "from powerbiclient import DatasetClient\n",
    "\n",
    "# Importa el conjunto de datos\n",
    "dataset = powerbiclient.DatasetClient.get(\"https://api.powerbi.com/v1.0/myorg/datasets/mydataset\")\n",
    "\n",
    "# Crea un informe a partir del conjunto de datos\n",
    "report = dataset.create_report()\n",
    "\n",
    "# Agrega una página al informe\n",
    "report.add_page(\"Mi Página\")\n",
    "\n",
    "# Agrega un gráfico a la página\n",
    "chart = report.add_chart()\n",
    "chart.data_source = dataset.get_table(\"MyTable\")\n",
    "chart.visualization_type = \"Line\"\n",
    "\n",
    "# Publica el informe\n",
    "report.publish()"
   ]
  }
 ],
 "metadata": {
  "kernelspec": {
   "display_name": "base",
   "language": "python",
   "name": "python3"
  },
  "language_info": {
   "codemirror_mode": {
    "name": "ipython",
    "version": 3
   },
   "file_extension": ".py",
   "mimetype": "text/x-python",
   "name": "python",
   "nbconvert_exporter": "python",
   "pygments_lexer": "ipython3",
   "version": "3.10.11"
  },
  "orig_nbformat": 4
 },
 "nbformat": 4,
 "nbformat_minor": 2
}
